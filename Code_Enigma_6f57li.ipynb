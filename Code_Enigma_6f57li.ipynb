{
 "cells": [
  {
   "cell_type": "markdown",
   "id": "3fc393cf",
   "metadata": {},
   "source": [
    "# Robi Datathon 2.0: Pre-Assessment"
   ]
  },
  {
   "cell_type": "markdown",
   "id": "766105ca",
   "metadata": {},
   "source": [
    "### About the dataset\n",
    "In this pre-assessment round, the task is to predict the label column based on the given features. The dataset contains both categorical and continuous values. Here, the column id is the unique identifier and the rest columns are the features.\n",
    "\n",
    "### File description:\n",
    "- train.csv : contains the training features along with the id and label column\n",
    "- test.csv : this is the testing dataset. You will be predicting the label column for this dataset. You will need the idand your predicted label (0 or 1) column for the submission.\n",
    "- sample_submission.csv : a sample submission format, containing 100 rows.\n"
   ]
  },
  {
   "cell_type": "markdown",
   "id": "7561533b",
   "metadata": {},
   "source": [
    "### Here are some necessary dependencies to install"
   ]
  },
  {
   "cell_type": "code",
   "execution_count": 1,
   "id": "cb56689a",
   "metadata": {},
   "outputs": [
    {
     "data": {
      "text/plain": [
       "'\\n!pip install opendatasets\\n!pip install pandas\\n!pip install matplotlib\\n!pip install seaborn\\n!pip install plotly\\n!pip install mplcyberpunk\\n!pip install sklearn\\n!pip install xgboost lightgbm catboost\\n'"
      ]
     },
     "execution_count": 1,
     "metadata": {},
     "output_type": "execute_result"
    }
   ],
   "source": [
    "# Uncomment these to install\n",
    "'''\n",
    "!pip install opendatasets\n",
    "!pip install pandas\n",
    "!pip install matplotlib\n",
    "!pip install seaborn\n",
    "!pip install plotly\n",
    "!pip install mplcyberpunk\n",
    "!pip install sklearn\n",
    "!pip install xgboost lightgbm catboost\n",
    "'''\n"
   ]
  },
  {
   "cell_type": "code",
   "execution_count": 2,
   "id": "c415250f",
   "metadata": {},
   "outputs": [],
   "source": [
    "# Necessary librairies to import\n",
    "\n",
    "import opendatasets as od\n",
    "import os\n",
    "import pandas as pd \n",
    "import numpy as np\n",
    "import matplotlib.pyplot as plt\n",
    "%matplotlib inline\n",
    "from matplotlib.gridspec import GridSpec\n",
    "import plotly.express as px\n",
    "import seaborn as sns\n",
    "import mplcyberpunk\n",
    "plt.style.use('cyberpunk')\n",
    "\n",
    "from sklearn.preprocessing import LabelEncoder\n",
    "from sklearn.model_selection import train_test_split\n",
    "import warnings\n",
    "warnings.simplefilter('ignore')"
   ]
  },
  {
   "cell_type": "markdown",
   "id": "6ffabc47",
   "metadata": {},
   "source": [
    "### Importing datasets"
   ]
  },
  {
   "cell_type": "code",
   "execution_count": 3,
   "id": "5c1818d5",
   "metadata": {},
   "outputs": [],
   "source": [
    "dataset = \"https://www.kaggle.com/competitions/robi-datathon-2-pre-assessment/data\""
   ]
  },
  {
   "cell_type": "code",
   "execution_count": 4,
   "id": "014242dc",
   "metadata": {},
   "outputs": [
    {
     "name": "stdout",
     "output_type": "stream",
     "text": [
      "Skipping, found downloaded files in \"./robi-datathon-2-pre-assessment\" (use force=True to force download)\n"
     ]
    }
   ],
   "source": [
    "od.download(dataset)"
   ]
  },
  {
   "cell_type": "code",
   "execution_count": 5,
   "id": "d96a9cae",
   "metadata": {},
   "outputs": [],
   "source": [
    "data_dir = './robi-datathon-2-pre-assessment'"
   ]
  },
  {
   "cell_type": "code",
   "execution_count": 6,
   "id": "06f88bbb",
   "metadata": {},
   "outputs": [
    {
     "data": {
      "text/plain": [
       "['sample_submission.csv', 'test.csv', 'train.csv']"
      ]
     },
     "execution_count": 6,
     "metadata": {},
     "output_type": "execute_result"
    }
   ],
   "source": [
    "os.listdir(data_dir)"
   ]
  },
  {
   "cell_type": "code",
   "execution_count": 7,
   "id": "750e3a8b",
   "metadata": {},
   "outputs": [],
   "source": [
    "train = pd.read_csv('robi-datathon-2-pre-assessment/train.csv')\n",
    "test = pd.read_csv('robi-datathon-2-pre-assessment/test.csv')"
   ]
  },
  {
   "cell_type": "markdown",
   "id": "01b6a4f3",
   "metadata": {},
   "source": [
    "## Exploring the datasets"
   ]
  },
  {
   "cell_type": "code",
   "execution_count": 8,
   "id": "7aa06700",
   "metadata": {},
   "outputs": [
    {
     "name": "stdout",
     "output_type": "stream",
     "text": [
      "Number of rows and columns: (28322, 36)\n"
     ]
    }
   ],
   "source": [
    "print('Number of rows and columns:',train.shape) \n"
   ]
  },
  {
   "cell_type": "code",
   "execution_count": 9,
   "id": "9f30ecfe",
   "metadata": {},
   "outputs": [
    {
     "name": "stdout",
     "output_type": "stream",
     "text": [
      "(85065, 35)\n"
     ]
    }
   ],
   "source": [
    "print(test.shape) \n",
    "#print(test.dtypes)"
   ]
  },
  {
   "cell_type": "code",
   "execution_count": 10,
   "id": "2bbda7cb",
   "metadata": {},
   "outputs": [
    {
     "data": {
      "text/plain": [
       "id        28322\n",
       "gender        2\n",
       "s11           2\n",
       "s12           2\n",
       "s13           2\n",
       "s16           4\n",
       "s17           4\n",
       "s18           4\n",
       "s48           2\n",
       "s52           4\n",
       "s53           2\n",
       "s54           9\n",
       "s55           9\n",
       "s56           0\n",
       "s57           0\n",
       "s58           2\n",
       "s59           0\n",
       "s69           4\n",
       "s70           4\n",
       "s71           4\n",
       "n1        28321\n",
       "n2        28320\n",
       "n3           10\n",
       "n4        28321\n",
       "n5        28290\n",
       "n6        28299\n",
       "n7        28320\n",
       "n8        28321\n",
       "n9        28321\n",
       "n10       28319\n",
       "n11       28321\n",
       "n12           2\n",
       "n13           2\n",
       "n14       28322\n",
       "n15           7\n",
       "label         2\n",
       "dtype: int64"
      ]
     },
     "execution_count": 10,
     "metadata": {},
     "output_type": "execute_result"
    }
   ],
   "source": [
    "train.nunique()"
   ]
  },
  {
   "cell_type": "code",
   "execution_count": 11,
   "id": "40d8a439",
   "metadata": {},
   "outputs": [
    {
     "name": "stdout",
     "output_type": "stream",
     "text": [
      "TRAIN SET MISSING VALUES:\n",
      "id            0\n",
      "gender        0\n",
      "s11           0\n",
      "s12           0\n",
      "s13           0\n",
      "s16           0\n",
      "s17           0\n",
      "s18           0\n",
      "s48           0\n",
      "s52           0\n",
      "s53           0\n",
      "s54       25694\n",
      "s55       25116\n",
      "s56       28322\n",
      "s57       28322\n",
      "s58           0\n",
      "s59       28322\n",
      "s69           0\n",
      "s70           0\n",
      "s71           0\n",
      "n1            0\n",
      "n2            0\n",
      "n3            0\n",
      "n4            0\n",
      "n5            0\n",
      "n6            0\n",
      "n7            0\n",
      "n8            0\n",
      "n9            0\n",
      "n10           0\n",
      "n11           0\n",
      "n12           0\n",
      "n13           0\n",
      "n14           0\n",
      "n15           0\n",
      "label         0\n",
      "dtype: int64\n",
      "\n",
      "TEST SET MISSING VALUES:\n",
      "id            0\n",
      "gender        0\n",
      "s11           0\n",
      "s12           0\n",
      "s13           0\n",
      "s16           0\n",
      "s17           0\n",
      "s18           0\n",
      "s48           0\n",
      "s52           0\n",
      "s53           0\n",
      "s54       77322\n",
      "s55       75644\n",
      "s56       85065\n",
      "s57       85065\n",
      "s58           0\n",
      "s59       85065\n",
      "s69           0\n",
      "s70           0\n",
      "s71           0\n",
      "n1            0\n",
      "n2            0\n",
      "n3            0\n",
      "n4            0\n",
      "n5            0\n",
      "n6            0\n",
      "n7            0\n",
      "n8            0\n",
      "n9            0\n",
      "n10           0\n",
      "n11           0\n",
      "n12           0\n",
      "n13           0\n",
      "n14           0\n",
      "n15           0\n",
      "dtype: int64\n"
     ]
    }
   ],
   "source": [
    "print('TRAIN SET MISSING VALUES:')\n",
    "print(train.isna().sum())\n",
    "print('')\n",
    "print('TEST SET MISSING VALUES:')\n",
    "print(test.isna().sum())"
   ]
  },
  {
   "cell_type": "code",
   "execution_count": 12,
   "id": "9641dcbb",
   "metadata": {},
   "outputs": [
    {
     "name": "stdout",
     "output_type": "stream",
     "text": [
      "Duplicates in train set: 0, (0.0%)\n",
      "\n",
      "Duplicates in test set: 0, (0.0%)\n"
     ]
    }
   ],
   "source": [
    "print(f'Duplicates in train set: {train.duplicated().sum()}, ({np.round(100*train.duplicated().sum()/len(train),1)}%)')\n",
    "print('')\n",
    "print(f'Duplicates in test set: {test.duplicated().sum()}, ({np.round(100*test.duplicated().sum()/len(test),1)}%)')"
   ]
  },
  {
   "cell_type": "markdown",
   "id": "29e1a2c9",
   "metadata": {},
   "source": [
    "### Some actions regarding data cleaning\n",
    "Some columns almost have no significant data and are not correlated with any variables. Those columns are cleaned."
   ]
  },
  {
   "cell_type": "code",
   "execution_count": 13,
   "id": "f186cc21",
   "metadata": {},
   "outputs": [],
   "source": [
    "train_detail = train.drop(columns=['s53', 's54', 's55', 's56', 's57', 's58', 's59'])"
   ]
  },
  {
   "cell_type": "code",
   "execution_count": 14,
   "id": "0f139f1d",
   "metadata": {},
   "outputs": [],
   "source": [
    "train_detail = train_detail.drop(columns=['n11', 'n12', 'n13', 'n14', 'n15'])"
   ]
  },
  {
   "cell_type": "code",
   "execution_count": 15,
   "id": "5c5f0425",
   "metadata": {},
   "outputs": [
    {
     "data": {
      "text/html": [
       "<div>\n",
       "<style scoped>\n",
       "    .dataframe tbody tr th:only-of-type {\n",
       "        vertical-align: middle;\n",
       "    }\n",
       "\n",
       "    .dataframe tbody tr th {\n",
       "        vertical-align: top;\n",
       "    }\n",
       "\n",
       "    .dataframe thead th {\n",
       "        text-align: right;\n",
       "    }\n",
       "</style>\n",
       "<table border=\"1\" class=\"dataframe\">\n",
       "  <thead>\n",
       "    <tr style=\"text-align: right;\">\n",
       "      <th></th>\n",
       "      <th>id</th>\n",
       "      <th>gender</th>\n",
       "      <th>s11</th>\n",
       "      <th>s12</th>\n",
       "      <th>s13</th>\n",
       "      <th>s16</th>\n",
       "      <th>s17</th>\n",
       "      <th>s18</th>\n",
       "      <th>s48</th>\n",
       "      <th>s52</th>\n",
       "      <th>...</th>\n",
       "      <th>n2</th>\n",
       "      <th>n3</th>\n",
       "      <th>n4</th>\n",
       "      <th>n5</th>\n",
       "      <th>n6</th>\n",
       "      <th>n7</th>\n",
       "      <th>n8</th>\n",
       "      <th>n9</th>\n",
       "      <th>n10</th>\n",
       "      <th>label</th>\n",
       "    </tr>\n",
       "  </thead>\n",
       "  <tbody>\n",
       "    <tr>\n",
       "      <th>0</th>\n",
       "      <td>b'gAAAAABinOicS09vrmgh0_JyEHihI13ptO0rCyHP7l76...</td>\n",
       "      <td>M</td>\n",
       "      <td>Y</td>\n",
       "      <td>N</td>\n",
       "      <td>1</td>\n",
       "      <td>D</td>\n",
       "      <td>D</td>\n",
       "      <td>B</td>\n",
       "      <td>0</td>\n",
       "      <td>1</td>\n",
       "      <td>...</td>\n",
       "      <td>1.989441</td>\n",
       "      <td>2</td>\n",
       "      <td>2.318385</td>\n",
       "      <td>-32.839277</td>\n",
       "      <td>0.017176</td>\n",
       "      <td>-9.126056</td>\n",
       "      <td>1.732291</td>\n",
       "      <td>3.698504</td>\n",
       "      <td>4.804517</td>\n",
       "      <td>0</td>\n",
       "    </tr>\n",
       "    <tr>\n",
       "      <th>1</th>\n",
       "      <td>b'gAAAAABinOiWGC1WhR6WYP0DA5ssGv9rIekrWUwCdJ8F...</td>\n",
       "      <td>M</td>\n",
       "      <td>Y</td>\n",
       "      <td>Y</td>\n",
       "      <td>1</td>\n",
       "      <td>D</td>\n",
       "      <td>D</td>\n",
       "      <td>B</td>\n",
       "      <td>1</td>\n",
       "      <td>1</td>\n",
       "      <td>...</td>\n",
       "      <td>0.844866</td>\n",
       "      <td>3</td>\n",
       "      <td>6.197768</td>\n",
       "      <td>-32.576597</td>\n",
       "      <td>0.013857</td>\n",
       "      <td>-9.098287</td>\n",
       "      <td>1.505885</td>\n",
       "      <td>6.791357</td>\n",
       "      <td>6.110416</td>\n",
       "      <td>1</td>\n",
       "    </tr>\n",
       "    <tr>\n",
       "      <th>2</th>\n",
       "      <td>b'gAAAAABinOibTcOBFIVeA4nVF3FuFz_QX3ZlPPFc21gS...</td>\n",
       "      <td>M</td>\n",
       "      <td>Y</td>\n",
       "      <td>Y</td>\n",
       "      <td>1</td>\n",
       "      <td>D</td>\n",
       "      <td>D</td>\n",
       "      <td>B</td>\n",
       "      <td>0</td>\n",
       "      <td>1</td>\n",
       "      <td>...</td>\n",
       "      <td>1.042018</td>\n",
       "      <td>6</td>\n",
       "      <td>7.824401</td>\n",
       "      <td>-32.510544</td>\n",
       "      <td>0.013943</td>\n",
       "      <td>-9.234894</td>\n",
       "      <td>1.503828</td>\n",
       "      <td>4.109685</td>\n",
       "      <td>3.953226</td>\n",
       "      <td>0</td>\n",
       "    </tr>\n",
       "    <tr>\n",
       "      <th>3</th>\n",
       "      <td>b'gAAAAABinOig-g3-Q1ggjlMhfUSdn21Aj5yVVeVvXbis...</td>\n",
       "      <td>F</td>\n",
       "      <td>Y</td>\n",
       "      <td>Y</td>\n",
       "      <td>1</td>\n",
       "      <td>D</td>\n",
       "      <td>D</td>\n",
       "      <td>B</td>\n",
       "      <td>0</td>\n",
       "      <td>1</td>\n",
       "      <td>...</td>\n",
       "      <td>0.781439</td>\n",
       "      <td>2</td>\n",
       "      <td>8.256767</td>\n",
       "      <td>-32.398679</td>\n",
       "      <td>0.010387</td>\n",
       "      <td>-9.378025</td>\n",
       "      <td>1.485863</td>\n",
       "      <td>7.265876</td>\n",
       "      <td>4.559419</td>\n",
       "      <td>0</td>\n",
       "    </tr>\n",
       "    <tr>\n",
       "      <th>4</th>\n",
       "      <td>b'gAAAAABinOiXdoaNUzihOSbyY1tjWtd5EgMaXkkvH6SV...</td>\n",
       "      <td>M</td>\n",
       "      <td>N</td>\n",
       "      <td>Y</td>\n",
       "      <td>1</td>\n",
       "      <td>B</td>\n",
       "      <td>D</td>\n",
       "      <td>D</td>\n",
       "      <td>1</td>\n",
       "      <td>l</td>\n",
       "      <td>...</td>\n",
       "      <td>1.248188</td>\n",
       "      <td>3</td>\n",
       "      <td>2.300011</td>\n",
       "      <td>-32.396746</td>\n",
       "      <td>0.016289</td>\n",
       "      <td>-9.261962</td>\n",
       "      <td>1.619210</td>\n",
       "      <td>3.737647</td>\n",
       "      <td>4.052003</td>\n",
       "      <td>0</td>\n",
       "    </tr>\n",
       "  </tbody>\n",
       "</table>\n",
       "<p>5 rows × 24 columns</p>\n",
       "</div>"
      ],
      "text/plain": [
       "                                                  id gender s11 s12  s13 s16  \\\n",
       "0  b'gAAAAABinOicS09vrmgh0_JyEHihI13ptO0rCyHP7l76...      M   Y   N    1   D   \n",
       "1  b'gAAAAABinOiWGC1WhR6WYP0DA5ssGv9rIekrWUwCdJ8F...      M   Y   Y    1   D   \n",
       "2  b'gAAAAABinOibTcOBFIVeA4nVF3FuFz_QX3ZlPPFc21gS...      M   Y   Y    1   D   \n",
       "3  b'gAAAAABinOig-g3-Q1ggjlMhfUSdn21Aj5yVVeVvXbis...      F   Y   Y    1   D   \n",
       "4  b'gAAAAABinOiXdoaNUzihOSbyY1tjWtd5EgMaXkkvH6SV...      M   N   Y    1   B   \n",
       "\n",
       "  s17 s18  s48 s52  ...        n2 n3        n4         n5        n6        n7  \\\n",
       "0   D   B    0   1  ...  1.989441  2  2.318385 -32.839277  0.017176 -9.126056   \n",
       "1   D   B    1   1  ...  0.844866  3  6.197768 -32.576597  0.013857 -9.098287   \n",
       "2   D   B    0   1  ...  1.042018  6  7.824401 -32.510544  0.013943 -9.234894   \n",
       "3   D   B    0   1  ...  0.781439  2  8.256767 -32.398679  0.010387 -9.378025   \n",
       "4   D   D    1   l  ...  1.248188  3  2.300011 -32.396746  0.016289 -9.261962   \n",
       "\n",
       "         n8        n9       n10  label  \n",
       "0  1.732291  3.698504  4.804517      0  \n",
       "1  1.505885  6.791357  6.110416      1  \n",
       "2  1.503828  4.109685  3.953226      0  \n",
       "3  1.485863  7.265876  4.559419      0  \n",
       "4  1.619210  3.737647  4.052003      0  \n",
       "\n",
       "[5 rows x 24 columns]"
      ]
     },
     "execution_count": 15,
     "metadata": {},
     "output_type": "execute_result"
    }
   ],
   "source": [
    "train_detail.head()"
   ]
  },
  {
   "cell_type": "code",
   "execution_count": 16,
   "id": "4a31141d",
   "metadata": {},
   "outputs": [
    {
     "name": "stdout",
     "output_type": "stream",
     "text": [
      "id\n",
      "[\"b'gAAAAABinOicS09vrmgh0_JyEHihI13ptO0rCyHP7l76be71PWA2ReUc4HUQn16Fya1z8_VStNnFGaXJF262CgsuMPzOaknSeg=='\"\n",
      " \"b'gAAAAABinOiWGC1WhR6WYP0DA5ssGv9rIekrWUwCdJ8FvkVcSUl2AquMfWqtOqs3AQYGxS13wQv9Tx4GEkPEl5RnbchazqsZcw=='\"\n",
      " \"b'gAAAAABinOibTcOBFIVeA4nVF3FuFz_QX3ZlPPFc21gS9EYdw6Wo8Y5agbzfD6hhsaXZCBdrUQVPpZBXYsODc2PDjER2DX5QcA=='\"\n",
      " ...\n",
      " \"b'gAAAAABinOicscC37w1W9uiIlYL1U5D_mUtmgdUg8QTlgTDiCQj0N8l5xVuD5tTmGrYgogJLq-v9Z6fCyGeAng__ulkRJQi-Xg=='\"\n",
      " \"b'gAAAAABinOib-JZ8iQDxjSRsa1dPT1TqeSQ_si4mAw5fX_kDmvIAkIofJCd_35viYIE5AhMTE-MYsS5yYkiD_9J6ewDjL1cYuQ=='\"\n",
      " \"b'gAAAAABinOiZ3mCQAtoJFXj-Ymjhi9FbbZ_Ypi5gDoAEYe1Cx66GhkhZ5UIJNLcPlgrRyfpabvIwD5ok1GxipWfkujjwXyMMBw=='\"]\n",
      "gender\n",
      "['M' 'F']\n",
      "s11\n",
      "['Y' 'N']\n",
      "s12\n",
      "['N' 'Y']\n",
      "s13\n",
      "[1 0]\n",
      "s16\n",
      "['D' 'B' 'C' 'A']\n",
      "s17\n",
      "['D' 'C' 'B' 'A']\n",
      "s18\n",
      "['B' 'D' 'C' 'A']\n",
      "s48\n",
      "[0 1]\n",
      "s52\n",
      "['1' 'l' '0' 'o']\n",
      "s69\n",
      "['x' '~1' 'C`' '0']\n",
      "s70\n",
      "['op: D' 'op: C' 'op: B' 'op: A']\n",
      "s71\n",
      "['b' 'd' 'c' 'a']\n",
      "n1\n",
      "[16.14466597  7.14455819  6.92323603 ... 13.42979701 16.09462206\n",
      "  7.05810713]\n",
      "n2\n",
      "[1.98944148 0.8448659  1.04201802 ... 1.80056198 2.43828046 1.02317194]\n",
      "n3\n",
      "[2 3 6 9 7 8 4 0 5 1]\n",
      "n4\n",
      "[2.31838468 6.19776785 7.82440091 ... 7.76338648 6.94276637 5.94202455]\n",
      "n5\n",
      "[-32.83927744 -32.5765972  -32.51054438 ... -32.57597474 -32.57756295\n",
      " -32.84889674]\n",
      "n6\n",
      "[0.01717551 0.01385715 0.01394339 ... 0.01778231 0.00732437 0.01592836]\n",
      "n7\n",
      "[-9.12605619 -9.09828731 -9.2348943  ... -9.23372167 -8.74894117\n",
      " -9.28094998]\n",
      "n8\n",
      "[1.73229112 1.50588495 1.50382812 ... 1.45591114 2.07439439 1.49047818]\n",
      "n9\n",
      "[ 3.69850365  6.79135689  4.10968506 ...  2.90024887 10.67325854\n",
      "  3.56959828]\n",
      "n10\n",
      "[ 4.80451719  6.11041593  3.95322561 ...  6.05868135 11.38764584\n",
      "  4.58496706]\n",
      "label\n",
      "[0 1]\n"
     ]
    }
   ],
   "source": [
    "for i in train_detail.columns:\n",
    "    print(i)\n",
    "    print(train_detail[i].unique())"
   ]
  },
  {
   "cell_type": "markdown",
   "id": "e23dc857",
   "metadata": {},
   "source": [
    "### Several columns have irregular data. Some categorical data are under curation"
   ]
  },
  {
   "cell_type": "code",
   "execution_count": 17,
   "id": "d7ba60c0",
   "metadata": {},
   "outputs": [],
   "source": [
    "train_detail['s11'].replace(['N', 'Y'],\n",
    "                        [0, 1], inplace=True)\n",
    "train_detail['s12'].replace(['N', 'Y'],\n",
    "                        [0, 1], inplace=True)\n",
    "train_detail['s16'].replace(['A', 'B', 'C', 'D'],\n",
    "                        [1, 2, 3, 4], inplace=True)\n",
    "train_detail['s17'].replace(['A', 'B', 'C', 'D'],\n",
    "                        [1, 2, 3, 4], inplace=True)\n",
    "train_detail['s18'].replace(['A', 'B', 'C', 'D'],\n",
    "                        [1, 2, 3, 4], inplace=True)\n",
    "train_detail['s52'].replace(['1', 'l', '0', 'o'],\n",
    "                        [1, 1, 0, 0], inplace=True)\n",
    "#train_detail['s53'].replace([' ', '  '],\n",
    "#                        [0, 1], inplace=True)\n",
    "#train_detail['s58'].replace(['B', 'A'],\n",
    "#                        [0, 1], inplace=True)\n",
    "train_detail['s69'].replace(['~1', 'C`', 'x', '0'],\n",
    "                        [1, 1, 0, 0], inplace=True)\n",
    "train_detail['s70'].replace(['op: A', 'op: B', 'op: C', 'op: D'],\n",
    "                        [1, 2, 3, 4], inplace=True)\n",
    "train_detail['s71'].replace(['a', 'b', 'c', 'd'],\n",
    "                        [1, 2, 3, 4], inplace=True)\n"
   ]
  },
  {
   "cell_type": "markdown",
   "id": "1e144400",
   "metadata": {},
   "source": [
    "### Correlation graph to get a better picture after cleaning the data"
   ]
  },
  {
   "cell_type": "code",
   "execution_count": 18,
   "id": "055699e0",
   "metadata": {},
   "outputs": [
    {
     "data": {
      "image/png": "[encoded data removed]",
      "text/plain": [
       "<Figure size 1440x1080 with 2 Axes>"
      ]
     },
     "metadata": {},
     "output_type": "display_data"
    }
   ],
   "source": [
    "sns.set(style=\"white\")\n",
    "\n",
    "corr = train_detail.corr()\n",
    "\n",
    "mask = np.triu(np.ones_like(corr, dtype=np.bool))\n",
    "\n",
    "f, ax = plt.subplots(figsize=(20, 15))\n",
    "\n",
    "cmap = sns.diverging_palette(220, 10, as_cmap=True)\n",
    "\n",
    "plt.title('Correlation Matrix', fontsize=18)\n",
    "\n",
    "sns.heatmap(corr, mask=mask, cmap=cmap, vmax=.3, center=0,\n",
    "            square=True, linewidths=.5, cbar_kws={\"shrink\": .5}, annot=True)\n",
    "\n",
    "plt.show()"
   ]
  },
  {
   "cell_type": "markdown",
   "id": "281b9a3b",
   "metadata": {},
   "source": [
    "## Data modeling, cross validation and ensembling prediction"
   ]
  },
  {
   "cell_type": "code",
   "execution_count": 19,
   "id": "ee3f3af6",
   "metadata": {},
   "outputs": [],
   "source": [
    "X = train_detail.drop(columns=['id', 'gender', 'label'], axis=1)\n",
    "y = train_detail['label']"
   ]
  },
  {
   "cell_type": "code",
   "execution_count": 20,
   "id": "3f578604",
   "metadata": {},
   "outputs": [
    {
     "data": {
      "text/plain": [
       "0    0\n",
       "1    1\n",
       "2    0\n",
       "3    0\n",
       "4    0\n",
       "Name: label, dtype: int64"
      ]
     },
     "execution_count": 20,
     "metadata": {},
     "output_type": "execute_result"
    }
   ],
   "source": [
    "y.head()"
   ]
  },
  {
   "cell_type": "code",
   "execution_count": 21,
   "id": "26c1c1c7",
   "metadata": {},
   "outputs": [],
   "source": [
    "from sklearn.model_selection import train_test_split, cross_val_score\n",
    "\n",
    "# classification function to use commonly for several machine learning algorithms\n",
    "\n",
    "def classify(model):\n",
    "    x_train, x_test, y_train, y_test = train_test_split(X, y, test_size=0.25, random_state=42)\n",
    "    model.fit(x_train, y_train)\n",
    "    print('Accuracy:', model.score(x_test, y_test))\n",
    "    \n",
    "    score = cross_val_score(model, X, y, cv=5)\n",
    "    print('CV Score:', np.mean(score))"
   ]
  },
  {
   "cell_type": "markdown",
   "id": "ea6862a7",
   "metadata": {},
   "source": [
    "### Some common machine learning algorithms like logistic regression, decision tree, random forest, extra trees, extreme gradient boosting, light gradient boosting and catboost are being checked for application on test data."
   ]
  },
  {
   "cell_type": "code",
   "execution_count": 22,
   "id": "6471d018",
   "metadata": {},
   "outputs": [
    {
     "name": "stdout",
     "output_type": "stream",
     "text": [
      "Accuracy: 0.8779833356870499\n",
      "CV Score: 0.8728904625488054\n"
     ]
    }
   ],
   "source": [
    "from sklearn.linear_model import LogisticRegression\n",
    "model = LogisticRegression()\n",
    "classify(model)"
   ]
  },
  {
   "cell_type": "code",
   "execution_count": 23,
   "id": "cbc884b4",
   "metadata": {},
   "outputs": [
    {
     "name": "stdout",
     "output_type": "stream",
     "text": [
      "Accuracy: 0.8128795367885892\n",
      "CV Score: 0.8131841057439626\n"
     ]
    }
   ],
   "source": [
    "from sklearn.tree import DecisionTreeClassifier\n",
    "model = DecisionTreeClassifier()\n",
    "classify(model)"
   ]
  },
  {
   "cell_type": "code",
   "execution_count": 24,
   "id": "260d4fc1",
   "metadata": {},
   "outputs": [
    {
     "name": "stdout",
     "output_type": "stream",
     "text": [
      "Accuracy: 0.880525349526903\n",
      "CV Score: 0.8761033466971841\n"
     ]
    }
   ],
   "source": [
    "from sklearn.ensemble import RandomForestClassifier\n",
    "model = RandomForestClassifier()\n",
    "classify(model)"
   ]
  },
  {
   "cell_type": "code",
   "execution_count": 25,
   "id": "689b9a20",
   "metadata": {},
   "outputs": [
    {
     "name": "stdout",
     "output_type": "stream",
     "text": [
      "Accuracy: 0.8810902414913148\n",
      "CV Score: 0.8742321644950408\n"
     ]
    }
   ],
   "source": [
    "from sklearn.ensemble import ExtraTreesClassifier\n",
    "model = ExtraTreesClassifier()\n",
    "classify(model)"
   ]
  },
  {
   "cell_type": "code",
   "execution_count": 26,
   "id": "07e40bff",
   "metadata": {},
   "outputs": [
    {
     "name": "stdout",
     "output_type": "stream",
     "text": [
      "Accuracy: 0.8772772207315351\n",
      "CV Score: 0.8716193135069636\n"
     ]
    }
   ],
   "source": [
    "from xgboost import XGBClassifier\n",
    "model = XGBClassifier()\n",
    "classify(model)"
   ]
  },
  {
   "cell_type": "code",
   "execution_count": 27,
   "id": "22428f93",
   "metadata": {},
   "outputs": [
    {
     "name": "stdout",
     "output_type": "stream",
     "text": [
      "Accuracy: 0.883208586357859\n",
      "CV Score: 0.8762446083344553\n"
     ]
    }
   ],
   "source": [
    "from lightgbm import LGBMClassifier\n",
    "model = LGBMClassifier(random_state = 0)\n",
    "classify(model)"
   ]
  },
  {
   "cell_type": "code",
   "execution_count": 28,
   "id": "4052783c",
   "metadata": {},
   "outputs": [
    {
     "name": "stdout",
     "output_type": "stream",
     "text": [
      "Accuracy: 0.8816551334557265\n",
      "CV Score: 0.8767036354161991\n"
     ]
    }
   ],
   "source": [
    "from catboost import CatBoostClassifier\n",
    "model = CatBoostClassifier(verbose=False, random_state=0)\n",
    "classify(model)"
   ]
  },
  {
   "cell_type": "markdown",
   "id": "6cd86530",
   "metadata": {},
   "source": [
    "## After a lot of failed trials of tuning parameters of different algorithms, light gradient boosting classifier method stood above others and so this method will be used to train and test.\n"
   ]
  },
  {
   "cell_type": "markdown",
   "id": "ce5f17e0",
   "metadata": {},
   "source": [
    "The main features of the LGBM model are as follows :\n",
    "\n",
    "- Higher accuracy and a faster training speed.\n",
    "\n",
    "- Low memory utilization\n",
    "\n",
    "- Comparatively better accuracy than other boosting algorithms and handles overfitting much better while working with smaller datasets.\n",
    "\n",
    "- Parallel Learning support.\n",
    "\n",
    "- Compatible with both small and large datasets\n",
    "\n",
    "LGBMClassifier is a gradient boosting framework that makes use of tree based learning algorithms that is considered to be a very powerful algorithm when it comes to computation. It is considered to be a fast processing algorithm.\n",
    "\n",
    "While other algorithms trees grow horizontally, LightGBM algorithm grows vertically meaning it grows leaf-wise and other algorithms grow level-wise. LightGBM chooses the leaf with large loss to grow. It can lower down more loss than a level wise algorithm when growing the same leaf.\n",
    "\n",
    "LightGBM is not for a small volume of datasets. It can easily overfit small data due to its sensitivity. It can be used for data having more than 10,000+ rows. Our data has over 25,000 rows.After several trials, tuning hyperparameters seemed quite problematic and therefore was avoided not to face overfitting."
   ]
  },
  {
   "cell_type": "code",
   "execution_count": 29,
   "id": "c2a5ac11",
   "metadata": {},
   "outputs": [
    {
     "data": {
      "text/html": [
       "<style>#sk-container-id-1 {color: black;background-color: white;}#sk-container-id-1 pre{padding: 0;}#sk-container-id-1 div.sk-toggleable {background-color: white;}#sk-container-id-1 label.sk-toggleable__label {cursor: pointer;display: block;width: 100%;margin-bottom: 0;padding: 0.3em;box-sizing: border-box;text-align: center;}#sk-container-id-1 label.sk-toggleable__label-arrow:before {content: \"▸\";float: left;margin-right: 0.25em;color: #696969;}#sk-container-id-1 label.sk-toggleable__label-arrow:hover:before {color: black;}#sk-container-id-1 div.sk-estimator:hover label.sk-toggleable__label-arrow:before {color: black;}#sk-container-id-1 div.sk-toggleable__content {max-height: 0;max-width: 0;overflow: hidden;text-align: left;background-color: #f0f8ff;}#sk-container-id-1 div.sk-toggleable__content pre {margin: 0.2em;color: black;border-radius: 0.25em;background-color: #f0f8ff;}#sk-container-id-1 input.sk-toggleable__control:checked~div.sk-toggleable__content {max-height: 200px;max-width: 100%;overflow: auto;}#sk-container-id-1 input.sk-toggleable__control:checked~label.sk-toggleable__label-arrow:before {content: \"▾\";}#sk-container-id-1 div.sk-estimator input.sk-toggleable__control:checked~label.sk-toggleable__label {background-color: #d4ebff;}#sk-container-id-1 div.sk-label input.sk-toggleable__control:checked~label.sk-toggleable__label {background-color: #d4ebff;}#sk-container-id-1 input.sk-hidden--visually {border: 0;clip: rect(1px 1px 1px 1px);clip: rect(1px, 1px, 1px, 1px);height: 1px;margin: -1px;overflow: hidden;padding: 0;position: absolute;width: 1px;}#sk-container-id-1 div.sk-estimator {font-family: monospace;background-color: #f0f8ff;border: 1px dotted black;border-radius: 0.25em;box-sizing: border-box;margin-bottom: 0.5em;}#sk-container-id-1 div.sk-estimator:hover {background-color: #d4ebff;}#sk-container-id-1 div.sk-parallel-item::after {content: \"\";width: 100%;border-bottom: 1px solid gray;flex-grow: 1;}#sk-container-id-1 div.sk-label:hover label.sk-toggleable__label {background-color: #d4ebff;}#sk-container-id-1 div.sk-serial::before {content: \"\";position: absolute;border-left: 1px solid gray;box-sizing: border-box;top: 0;bottom: 0;left: 50%;z-index: 0;}#sk-container-id-1 div.sk-serial {display: flex;flex-direction: column;align-items: center;background-color: white;padding-right: 0.2em;padding-left: 0.2em;position: relative;}#sk-container-id-1 div.sk-item {position: relative;z-index: 1;}#sk-container-id-1 div.sk-parallel {display: flex;align-items: stretch;justify-content: center;background-color: white;position: relative;}#sk-container-id-1 div.sk-item::before, #sk-container-id-1 div.sk-parallel-item::before {content: \"\";position: absolute;border-left: 1px solid gray;box-sizing: border-box;top: 0;bottom: 0;left: 50%;z-index: -1;}#sk-container-id-1 div.sk-parallel-item {display: flex;flex-direction: column;z-index: 1;position: relative;background-color: white;}#sk-container-id-1 div.sk-parallel-item:first-child::after {align-self: flex-end;width: 50%;}#sk-container-id-1 div.sk-parallel-item:last-child::after {align-self: flex-start;width: 50%;}#sk-container-id-1 div.sk-parallel-item:only-child::after {width: 0;}#sk-container-id-1 div.sk-dashed-wrapped {border: 1px dashed gray;margin: 0 0.4em 0.5em 0.4em;box-sizing: border-box;padding-bottom: 0.4em;background-color: white;}#sk-container-id-1 div.sk-label label {font-family: monospace;font-weight: bold;display: inline-block;line-height: 1.2em;}#sk-container-id-1 div.sk-label-container {text-align: center;}#sk-container-id-1 div.sk-container {/* jupyter's `normalize.less` sets `[hidden] { display: none; }` but bootstrap.min.css set `[hidden] { display: none !important; }` so we also need the `!important` here to be able to override the default hidden behavior on the sphinx rendered scikit-learn.org. See: https://github.com/scikit-learn/scikit-learn/issues/21755 */display: inline-block !important;position: relative;}#sk-container-id-1 div.sk-text-repr-fallback {display: none;}</style><div id=\"sk-container-id-1\" class=\"sk-top-container\"><div class=\"sk-text-repr-fallback\"><pre>LGBMClassifier()</pre><b>In a Jupyter environment, please rerun this cell to show the HTML representation or trust the notebook. <br />On GitHub, the HTML representation is unable to render, please try loading this page with nbviewer.org.</b></div><div class=\"sk-container\" hidden><div class=\"sk-item\"><div class=\"sk-estimator sk-toggleable\"><input class=\"sk-toggleable__control sk-hidden--visually\" id=\"sk-estimator-id-1\" type=\"checkbox\" checked><label for=\"sk-estimator-id-1\" class=\"sk-toggleable__label sk-toggleable__label-arrow\">LGBMClassifier</label><div class=\"sk-toggleable__content\"><pre>LGBMClassifier()</pre></div></div></div></div></div>"
      ],
      "text/plain": [
       "LGBMClassifier()"
      ]
     },
     "execution_count": 29,
     "metadata": {},
     "output_type": "execute_result"
    }
   ],
   "source": [
    "X = train_detail.drop(columns=['id', 'gender', 'label'], axis=1)\n",
    "y = train_detail['label']\n",
    "model = LGBMClassifier()\n",
    "model.fit(X, y)"
   ]
  },
  {
   "cell_type": "code",
   "execution_count": 30,
   "id": "903eecff",
   "metadata": {},
   "outputs": [],
   "source": [
    "# test data is being curated \n",
    "\n",
    "test_detail = test.drop(columns=['s53', 's54', 's55', 's56', 's57', 's58', 's59'])\n",
    "test_detail = test_detail.drop(columns=['n11', 'n12', 'n13', 'n14', 'n15'])\n",
    "    \n",
    "test_detail['s11'].replace(['N', 'Y'],\n",
    "                        [0, 1], inplace=True)\n",
    "test_detail['s12'].replace(['N', 'Y'],\n",
    "                        [0, 1], inplace=True)\n",
    "test_detail['s16'].replace(['A', 'B', 'C', 'D'],\n",
    "                        [1, 2, 3, 4], inplace=True)\n",
    "test_detail['s17'].replace(['A', 'B', 'C', 'D'],\n",
    "                        [1, 2, 3, 4], inplace=True)\n",
    "test_detail['s18'].replace(['A', 'B', 'C', 'D'],\n",
    "                        [1, 2, 3, 4], inplace=True)\n",
    "test_detail['s52'].replace(['1', 'l', '0', 'o'],\n",
    "                        [1, 1, 0, 0], inplace=True)\n",
    "test_detail['s69'].replace(['~1', 'C`', 'x', '0'],\n",
    "                        [1, 1, 0, 0], inplace=True)\n",
    "test_detail['s70'].replace(['op: A', 'op: B', 'op: C', 'op: D'],\n",
    "                        [1, 2, 3, 4], inplace=True)\n",
    "test_detail['s71'].replace(['a', 'b', 'c', 'd'],\n",
    "                        [1, 2, 3, 4], inplace=True)\n",
    "                        \n",
    "X_test = test_detail.drop(columns=['id', 'gender'], axis=1)\n",
    "\n",
    "\n"
   ]
  },
  {
   "cell_type": "code",
   "execution_count": 31,
   "id": "c52f5460",
   "metadata": {},
   "outputs": [
    {
     "data": {
      "text/plain": [
       "array([1, 1, 1, ..., 0, 1, 0])"
      ]
     },
     "execution_count": 31,
     "metadata": {},
     "output_type": "execute_result"
    }
   ],
   "source": [
    "pred = model.predict(X_test)\n",
    "pred"
   ]
  },
  {
   "cell_type": "code",
   "execution_count": 32,
   "id": "36fac21a",
   "metadata": {},
   "outputs": [],
   "source": [
    "test_id = test_detail['id']\n",
    "#Create a  DataFrame with the passengers ids and our prediction\n",
    "submission = pd.DataFrame({'id':test_id,'label':pred})"
   ]
  },
  {
   "cell_type": "code",
   "execution_count": 33,
   "id": "125cf11a",
   "metadata": {},
   "outputs": [],
   "source": [
    "submission.to_csv('Submission_Enigma_6f57li.csv',index=False)"
   ]
  },
  {
   "cell_type": "markdown",
   "id": "4af4458a",
   "metadata": {},
   "source": [
    "The score turned out to be 0.71735."
   ]
  },
  {
   "cell_type": "markdown",
   "id": "f36017e4",
   "metadata": {},
   "source": [
    "## Thanks for your kind attention"
   ]
  }
 ],
 "metadata": {
  "kernelspec": {
   "display_name": "venv",
   "language": "python",
   "name": "venv"
  },
  "language_info": {
   "codemirror_mode": {
    "name": "ipython",
    "version": 3
   },
   "file_extension": ".py",
   "mimetype": "text/x-python",
   "name": "python",
   "nbconvert_exporter": "python",
   "pygments_lexer": "ipython3",
   "version": "3.10.4"
  }
 },
 "nbformat": 4,
 "nbformat_minor": 5
}
